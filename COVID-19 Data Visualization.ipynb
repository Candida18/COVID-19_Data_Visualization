{
  "cells":[
    {
      "cell_type":"markdown",
      "source":[
        "# COVID-19 Data Visualization\n",
        "\n",
        "\n",
        "## By Candida Noronha"
      ],
      "attachments":{
        
      },
      "metadata":{
        
      }
    },
    {
      "cell_type":"markdown",
      "source":[
        "### Importing modules"
      ],
      "attachments":{
        
      },
      "metadata":{
        
      }
    },
    {
      "cell_type":"code",
      "source":[
        "import pandas as pd\n",
        "import numpy as np\n",
        "import plotly.express as px\n",
        "import matplotlib.pyplot as plt \n",
        "import datetime\n",
        "print('Modules are imported')"
      ],
      "execution_count":33,
      "outputs":[
        {
          "name":"stdout",
          "text":[
            "Modules are imported\n"
          ],
          "output_type":"stream"
        }
      ],
      "metadata":{
        
      }
    },
    {
      "cell_type":"markdown",
      "source":[
        "\n",
        "#### Loading the Dataset"
      ],
      "attachments":{
        
      },
      "metadata":{
        
      }
    },
    {
      "cell_type":"code",
      "source":[
        "dataset_url = 'https:\/\/raw.githubusercontent.com\/datasets\/covid-19\/master\/data\/countries-aggregated.csv'\n",
        "df = pd.read_csv(dataset_url)"
      ],
      "execution_count":34,
      "outputs":[
        
      ],
      "metadata":{
        
      }
    },
    {
      "cell_type":"markdown",
      "source":[
        "\n",
        "#### Checking the dataframe "
      ],
      "attachments":{
        
      },
      "metadata":{
        
      }
    },
    {
      "cell_type":"code",
      "source":[
        "df.head()"
      ],
      "execution_count":35,
      "outputs":[
        {
          "data":{
            "text\/html":[
              "<div>\n",
              "<style scoped>\n",
              "    .dataframe tbody tr th:only-of-type {\n",
              "        vertical-align: middle;\n",
              "    }\n",
              "\n",
              "    .dataframe tbody tr th {\n",
              "        vertical-align: top;\n",
              "    }\n",
              "\n",
              "    .dataframe thead th {\n",
              "        text-align: right;\n",
              "    }\n",
              "<\/style>\n",
              "<table border=\"1\" class=\"dataframe\">\n",
              "  <thead>\n",
              "    <tr style=\"text-align: right;\">\n",
              "      <th><\/th>\n",
              "      <th>Date<\/th>\n",
              "      <th>Country<\/th>\n",
              "      <th>Confirmed<\/th>\n",
              "      <th>Recovered<\/th>\n",
              "      <th>Deaths<\/th>\n",
              "    <\/tr>\n",
              "  <\/thead>\n",
              "  <tbody>\n",
              "    <tr>\n",
              "      <th>0<\/th>\n",
              "      <td>2020-01-22<\/td>\n",
              "      <td>Afghanistan<\/td>\n",
              "      <td>0<\/td>\n",
              "      <td>0<\/td>\n",
              "      <td>0<\/td>\n",
              "    <\/tr>\n",
              "    <tr>\n",
              "      <th>1<\/th>\n",
              "      <td>2020-01-23<\/td>\n",
              "      <td>Afghanistan<\/td>\n",
              "      <td>0<\/td>\n",
              "      <td>0<\/td>\n",
              "      <td>0<\/td>\n",
              "    <\/tr>\n",
              "    <tr>\n",
              "      <th>2<\/th>\n",
              "      <td>2020-01-24<\/td>\n",
              "      <td>Afghanistan<\/td>\n",
              "      <td>0<\/td>\n",
              "      <td>0<\/td>\n",
              "      <td>0<\/td>\n",
              "    <\/tr>\n",
              "    <tr>\n",
              "      <th>3<\/th>\n",
              "      <td>2020-01-25<\/td>\n",
              "      <td>Afghanistan<\/td>\n",
              "      <td>0<\/td>\n",
              "      <td>0<\/td>\n",
              "      <td>0<\/td>\n",
              "    <\/tr>\n",
              "    <tr>\n",
              "      <th>4<\/th>\n",
              "      <td>2020-01-26<\/td>\n",
              "      <td>Afghanistan<\/td>\n",
              "      <td>0<\/td>\n",
              "      <td>0<\/td>\n",
              "      <td>0<\/td>\n",
              "    <\/tr>\n",
              "  <\/tbody>\n",
              "<\/table>\n",
              "<\/div>"
            ]
          },
          "metadata":{
            
          },
          "output_type":"display_data"
        }
      ],
      "metadata":{
        
      }
    },
    {
      "cell_type":"code",
      "source":[
        "df.tail()"
      ],
      "execution_count":36,
      "outputs":[
        {
          "data":{
            "text\/html":[
              "<div>\n",
              "<style scoped>\n",
              "    .dataframe tbody tr th:only-of-type {\n",
              "        vertical-align: middle;\n",
              "    }\n",
              "\n",
              "    .dataframe tbody tr th {\n",
              "        vertical-align: top;\n",
              "    }\n",
              "\n",
              "    .dataframe thead th {\n",
              "        text-align: right;\n",
              "    }\n",
              "<\/style>\n",
              "<table border=\"1\" class=\"dataframe\">\n",
              "  <thead>\n",
              "    <tr style=\"text-align: right;\">\n",
              "      <th><\/th>\n",
              "      <th>Date<\/th>\n",
              "      <th>Country<\/th>\n",
              "      <th>Confirmed<\/th>\n",
              "      <th>Recovered<\/th>\n",
              "      <th>Deaths<\/th>\n",
              "    <\/tr>\n",
              "  <\/thead>\n",
              "  <tbody>\n",
              "    <tr>\n",
              "      <th>115240<\/th>\n",
              "      <td>2021-08-30<\/td>\n",
              "      <td>Zimbabwe<\/td>\n",
              "      <td>124581<\/td>\n",
              "      <td>0<\/td>\n",
              "      <td>4416<\/td>\n",
              "    <\/tr>\n",
              "    <tr>\n",
              "      <th>115241<\/th>\n",
              "      <td>2021-08-31<\/td>\n",
              "      <td>Zimbabwe<\/td>\n",
              "      <td>124773<\/td>\n",
              "      <td>0<\/td>\n",
              "      <td>4419<\/td>\n",
              "    <\/tr>\n",
              "    <tr>\n",
              "      <th>115242<\/th>\n",
              "      <td>2021-09-01<\/td>\n",
              "      <td>Zimbabwe<\/td>\n",
              "      <td>124960<\/td>\n",
              "      <td>0<\/td>\n",
              "      <td>4438<\/td>\n",
              "    <\/tr>\n",
              "    <tr>\n",
              "      <th>115243<\/th>\n",
              "      <td>2021-09-02<\/td>\n",
              "      <td>Zimbabwe<\/td>\n",
              "      <td>125118<\/td>\n",
              "      <td>0<\/td>\n",
              "      <td>4449<\/td>\n",
              "    <\/tr>\n",
              "    <tr>\n",
              "      <th>115244<\/th>\n",
              "      <td>2021-09-03<\/td>\n",
              "      <td>Zimbabwe<\/td>\n",
              "      <td>125331<\/td>\n",
              "      <td>0<\/td>\n",
              "      <td>4457<\/td>\n",
              "    <\/tr>\n",
              "  <\/tbody>\n",
              "<\/table>\n",
              "<\/div>"
            ]
          },
          "metadata":{
            
          },
          "output_type":"display_data"
        }
      ],
      "metadata":{
        
      }
    },
    {
      "cell_type":"markdown",
      "source":[
        "#### Check the shape of the dataframe "
      ],
      "attachments":{
        
      },
      "metadata":{
        
      }
    },
    {
      "cell_type":"code",
      "source":[
        "df.shape"
      ],
      "execution_count":37,
      "outputs":[
        {
          "data":{
            "text\/plain":[
              "(115245, 5)"
            ]
          },
          "metadata":{
            
          },
          "output_type":"display_data"
        }
      ],
      "metadata":{
        
      }
    },
    {
      "cell_type":"markdown",
      "source":[
        "\n",
        "#### Some preprocessing "
      ],
      "attachments":{
        
      },
      "metadata":{
        
      }
    },
    {
      "cell_type":"code",
      "source":[
        "df = df[df.Confirmed > 0]"
      ],
      "execution_count":38,
      "outputs":[
        
      ],
      "metadata":{
        
      }
    },
    {
      "cell_type":"code",
      "source":[
        "df.head()"
      ],
      "execution_count":39,
      "outputs":[
        {
          "data":{
            "text\/html":[
              "<div>\n",
              "<style scoped>\n",
              "    .dataframe tbody tr th:only-of-type {\n",
              "        vertical-align: middle;\n",
              "    }\n",
              "\n",
              "    .dataframe tbody tr th {\n",
              "        vertical-align: top;\n",
              "    }\n",
              "\n",
              "    .dataframe thead th {\n",
              "        text-align: right;\n",
              "    }\n",
              "<\/style>\n",
              "<table border=\"1\" class=\"dataframe\">\n",
              "  <thead>\n",
              "    <tr style=\"text-align: right;\">\n",
              "      <th><\/th>\n",
              "      <th>Date<\/th>\n",
              "      <th>Country<\/th>\n",
              "      <th>Confirmed<\/th>\n",
              "      <th>Recovered<\/th>\n",
              "      <th>Deaths<\/th>\n",
              "    <\/tr>\n",
              "  <\/thead>\n",
              "  <tbody>\n",
              "    <tr>\n",
              "      <th>33<\/th>\n",
              "      <td>2020-02-24<\/td>\n",
              "      <td>Afghanistan<\/td>\n",
              "      <td>1<\/td>\n",
              "      <td>0<\/td>\n",
              "      <td>0<\/td>\n",
              "    <\/tr>\n",
              "    <tr>\n",
              "      <th>34<\/th>\n",
              "      <td>2020-02-25<\/td>\n",
              "      <td>Afghanistan<\/td>\n",
              "      <td>1<\/td>\n",
              "      <td>0<\/td>\n",
              "      <td>0<\/td>\n",
              "    <\/tr>\n",
              "    <tr>\n",
              "      <th>35<\/th>\n",
              "      <td>2020-02-26<\/td>\n",
              "      <td>Afghanistan<\/td>\n",
              "      <td>1<\/td>\n",
              "      <td>0<\/td>\n",
              "      <td>0<\/td>\n",
              "    <\/tr>\n",
              "    <tr>\n",
              "      <th>36<\/th>\n",
              "      <td>2020-02-27<\/td>\n",
              "      <td>Afghanistan<\/td>\n",
              "      <td>1<\/td>\n",
              "      <td>0<\/td>\n",
              "      <td>0<\/td>\n",
              "    <\/tr>\n",
              "    <tr>\n",
              "      <th>37<\/th>\n",
              "      <td>2020-02-28<\/td>\n",
              "      <td>Afghanistan<\/td>\n",
              "      <td>1<\/td>\n",
              "      <td>0<\/td>\n",
              "      <td>0<\/td>\n",
              "    <\/tr>\n",
              "  <\/tbody>\n",
              "<\/table>\n",
              "<\/div>"
            ]
          },
          "metadata":{
            
          },
          "output_type":"display_data"
        }
      ],
      "metadata":{
        
      }
    },
    {
      "cell_type":"markdown",
      "source":[
        "#### Displaying data related to a country for example India"
      ],
      "attachments":{
        
      },
      "metadata":{
        
      }
    },
    {
      "cell_type":"code",
      "source":[
        "df[df.Country == 'India']"
      ],
      "execution_count":40,
      "outputs":[
        {
          "data":{
            "text\/html":[
              "<div>\n",
              "<style scoped>\n",
              "    .dataframe tbody tr th:only-of-type {\n",
              "        vertical-align: middle;\n",
              "    }\n",
              "\n",
              "    .dataframe tbody tr th {\n",
              "        vertical-align: top;\n",
              "    }\n",
              "\n",
              "    .dataframe thead th {\n",
              "        text-align: right;\n",
              "    }\n",
              "<\/style>\n",
              "<table border=\"1\" class=\"dataframe\">\n",
              "  <thead>\n",
              "    <tr style=\"text-align: right;\">\n",
              "      <th><\/th>\n",
              "      <th>Date<\/th>\n",
              "      <th>Country<\/th>\n",
              "      <th>Confirmed<\/th>\n",
              "      <th>Recovered<\/th>\n",
              "      <th>Deaths<\/th>\n",
              "    <\/tr>\n",
              "  <\/thead>\n",
              "  <tbody>\n",
              "    <tr>\n",
              "      <th>46697<\/th>\n",
              "      <td>2020-01-30<\/td>\n",
              "      <td>India<\/td>\n",
              "      <td>1<\/td>\n",
              "      <td>0<\/td>\n",
              "      <td>0<\/td>\n",
              "    <\/tr>\n",
              "    <tr>\n",
              "      <th>46698<\/th>\n",
              "      <td>2020-01-31<\/td>\n",
              "      <td>India<\/td>\n",
              "      <td>1<\/td>\n",
              "      <td>0<\/td>\n",
              "      <td>0<\/td>\n",
              "    <\/tr>\n",
              "    <tr>\n",
              "      <th>46699<\/th>\n",
              "      <td>2020-02-01<\/td>\n",
              "      <td>India<\/td>\n",
              "      <td>1<\/td>\n",
              "      <td>0<\/td>\n",
              "      <td>0<\/td>\n",
              "    <\/tr>\n",
              "    <tr>\n",
              "      <th>46700<\/th>\n",
              "      <td>2020-02-02<\/td>\n",
              "      <td>India<\/td>\n",
              "      <td>2<\/td>\n",
              "      <td>0<\/td>\n",
              "      <td>0<\/td>\n",
              "    <\/tr>\n",
              "    <tr>\n",
              "      <th>46701<\/th>\n",
              "      <td>2020-02-03<\/td>\n",
              "      <td>India<\/td>\n",
              "      <td>3<\/td>\n",
              "      <td>0<\/td>\n",
              "      <td>0<\/td>\n",
              "    <\/tr>\n",
              "    <tr>\n",
              "      <th>...<\/th>\n",
              "      <td>...<\/td>\n",
              "      <td>...<\/td>\n",
              "      <td>...<\/td>\n",
              "      <td>...<\/td>\n",
              "      <td>...<\/td>\n",
              "    <\/tr>\n",
              "    <tr>\n",
              "      <th>47275<\/th>\n",
              "      <td>2021-08-30<\/td>\n",
              "      <td>India<\/td>\n",
              "      <td>32768880<\/td>\n",
              "      <td>0<\/td>\n",
              "      <td>438560<\/td>\n",
              "    <\/tr>\n",
              "    <tr>\n",
              "      <th>47276<\/th>\n",
              "      <td>2021-08-31<\/td>\n",
              "      <td>India<\/td>\n",
              "      <td>32810845<\/td>\n",
              "      <td>0<\/td>\n",
              "      <td>439020<\/td>\n",
              "    <\/tr>\n",
              "    <tr>\n",
              "      <th>47277<\/th>\n",
              "      <td>2021-09-01<\/td>\n",
              "      <td>India<\/td>\n",
              "      <td>32857937<\/td>\n",
              "      <td>0<\/td>\n",
              "      <td>439529<\/td>\n",
              "    <\/tr>\n",
              "    <tr>\n",
              "      <th>47278<\/th>\n",
              "      <td>2021-09-02<\/td>\n",
              "      <td>India<\/td>\n",
              "      <td>32903289<\/td>\n",
              "      <td>0<\/td>\n",
              "      <td>439895<\/td>\n",
              "    <\/tr>\n",
              "    <tr>\n",
              "      <th>47279<\/th>\n",
              "      <td>2021-09-03<\/td>\n",
              "      <td>India<\/td>\n",
              "      <td>32903289<\/td>\n",
              "      <td>0<\/td>\n",
              "      <td>439895<\/td>\n",
              "    <\/tr>\n",
              "  <\/tbody>\n",
              "<\/table>\n",
              "<p>583 rows × 5 columns<\/p>\n",
              "<\/div>"
            ]
          },
          "metadata":{
            
          },
          "output_type":"display_data"
        }
      ],
      "metadata":{
        
      }
    },
    {
      "cell_type":"markdown",
      "source":[
        "## Visualizing the Global spread of COVID-19"
      ],
      "attachments":{
        
      },
      "metadata":{
        
      }
    },
    {
      "cell_type":"code",
      "source":[
        "fig  = px.choropleth(df, locations = 'Country', locationmode = 'country names', color = 'Confirmed', animation_frame = 'Date')\n",
        "fig.update_layout(title_text= 'Global Spread of COVID-19 ')\n",
        "fig.show()"
      ],
      "execution_count":41,
      "outputs":[
        {
          "data":{
            "text\/plain":[
              "Unsupported"
            ]
          },
          "metadata":{
            
          },
          "output_type":"display_data"
        }
      ],
      "metadata":{
        
      }
    },
    {
      "cell_type":"markdown",
      "source":[
        "\n",
        "## Visualizing the Global Deaths caused due to COVID-19"
      ],
      "attachments":{
        
      },
      "metadata":{
        
      }
    },
    {
      "cell_type":"code",
      "source":[
        "fig  = px.choropleth(df, locations = 'Country', locationmode = 'country names', color = 'Deaths', animation_frame = 'Date')\n",
        "fig.update_layout(title_text= 'Global Deaths due to COVID-19 ')\n",
        "fig.show()"
      ],
      "execution_count":42,
      "outputs":[
        {
          "data":{
            "text\/plain":[
              "Unsupported"
            ]
          },
          "metadata":{
            
          },
          "output_type":"display_data"
        }
      ],
      "metadata":{
        
      }
    },
    {
      "cell_type":"markdown",
      "source":[
        "\n",
        "#### Visualizing how intensive the COVID-19 Transmission has been in each of the country"
      ],
      "attachments":{
        
      },
      "metadata":{
        
      }
    },
    {
      "cell_type":"code",
      "source":[
        "df_china = df[df.Country == 'China']\n",
        "df_china.head()"
      ],
      "execution_count":43,
      "outputs":[
        {
          "data":{
            "text\/html":[
              "<div>\n",
              "<style scoped>\n",
              "    .dataframe tbody tr th:only-of-type {\n",
              "        vertical-align: middle;\n",
              "    }\n",
              "\n",
              "    .dataframe tbody tr th {\n",
              "        vertical-align: top;\n",
              "    }\n",
              "\n",
              "    .dataframe thead th {\n",
              "        text-align: right;\n",
              "    }\n",
              "<\/style>\n",
              "<table border=\"1\" class=\"dataframe\">\n",
              "  <thead>\n",
              "    <tr style=\"text-align: right;\">\n",
              "      <th><\/th>\n",
              "      <th>Date<\/th>\n",
              "      <th>Country<\/th>\n",
              "      <th>Confirmed<\/th>\n",
              "      <th>Recovered<\/th>\n",
              "      <th>Deaths<\/th>\n",
              "    <\/tr>\n",
              "  <\/thead>\n",
              "  <tbody>\n",
              "    <tr>\n",
              "      <th>21276<\/th>\n",
              "      <td>2020-01-22<\/td>\n",
              "      <td>China<\/td>\n",
              "      <td>548<\/td>\n",
              "      <td>28<\/td>\n",
              "      <td>17<\/td>\n",
              "    <\/tr>\n",
              "    <tr>\n",
              "      <th>21277<\/th>\n",
              "      <td>2020-01-23<\/td>\n",
              "      <td>China<\/td>\n",
              "      <td>643<\/td>\n",
              "      <td>30<\/td>\n",
              "      <td>18<\/td>\n",
              "    <\/tr>\n",
              "    <tr>\n",
              "      <th>21278<\/th>\n",
              "      <td>2020-01-24<\/td>\n",
              "      <td>China<\/td>\n",
              "      <td>920<\/td>\n",
              "      <td>36<\/td>\n",
              "      <td>26<\/td>\n",
              "    <\/tr>\n",
              "    <tr>\n",
              "      <th>21279<\/th>\n",
              "      <td>2020-01-25<\/td>\n",
              "      <td>China<\/td>\n",
              "      <td>1406<\/td>\n",
              "      <td>39<\/td>\n",
              "      <td>42<\/td>\n",
              "    <\/tr>\n",
              "    <tr>\n",
              "      <th>21280<\/th>\n",
              "      <td>2020-01-26<\/td>\n",
              "      <td>China<\/td>\n",
              "      <td>2075<\/td>\n",
              "      <td>49<\/td>\n",
              "      <td>56<\/td>\n",
              "    <\/tr>\n",
              "  <\/tbody>\n",
              "<\/table>\n",
              "<\/div>"
            ]
          },
          "metadata":{
            
          },
          "output_type":"display_data"
        }
      ],
      "metadata":{
        
      }
    },
    {
      "cell_type":"code",
      "source":[
        "df_china = df_china[['Date','Confirmed']]"
      ],
      "execution_count":44,
      "outputs":[
        
      ],
      "metadata":{
        
      }
    },
    {
      "cell_type":"code",
      "source":[
        "df_china"
      ],
      "execution_count":45,
      "outputs":[
        {
          "data":{
            "text\/html":[
              "<div>\n",
              "<style scoped>\n",
              "    .dataframe tbody tr th:only-of-type {\n",
              "        vertical-align: middle;\n",
              "    }\n",
              "\n",
              "    .dataframe tbody tr th {\n",
              "        vertical-align: top;\n",
              "    }\n",
              "\n",
              "    .dataframe thead th {\n",
              "        text-align: right;\n",
              "    }\n",
              "<\/style>\n",
              "<table border=\"1\" class=\"dataframe\">\n",
              "  <thead>\n",
              "    <tr style=\"text-align: right;\">\n",
              "      <th><\/th>\n",
              "      <th>Date<\/th>\n",
              "      <th>Confirmed<\/th>\n",
              "    <\/tr>\n",
              "  <\/thead>\n",
              "  <tbody>\n",
              "    <tr>\n",
              "      <th>21276<\/th>\n",
              "      <td>2020-01-22<\/td>\n",
              "      <td>548<\/td>\n",
              "    <\/tr>\n",
              "    <tr>\n",
              "      <th>21277<\/th>\n",
              "      <td>2020-01-23<\/td>\n",
              "      <td>643<\/td>\n",
              "    <\/tr>\n",
              "    <tr>\n",
              "      <th>21278<\/th>\n",
              "      <td>2020-01-24<\/td>\n",
              "      <td>920<\/td>\n",
              "    <\/tr>\n",
              "    <tr>\n",
              "      <th>21279<\/th>\n",
              "      <td>2020-01-25<\/td>\n",
              "      <td>1406<\/td>\n",
              "    <\/tr>\n",
              "    <tr>\n",
              "      <th>21280<\/th>\n",
              "      <td>2020-01-26<\/td>\n",
              "      <td>2075<\/td>\n",
              "    <\/tr>\n",
              "    <tr>\n",
              "      <th>...<\/th>\n",
              "      <td>...<\/td>\n",
              "      <td>...<\/td>\n",
              "    <\/tr>\n",
              "    <tr>\n",
              "      <th>21862<\/th>\n",
              "      <td>2021-08-30<\/td>\n",
              "      <td>107052<\/td>\n",
              "    <\/tr>\n",
              "    <tr>\n",
              "      <th>21863<\/th>\n",
              "      <td>2021-08-31<\/td>\n",
              "      <td>107073<\/td>\n",
              "    <\/tr>\n",
              "    <tr>\n",
              "      <th>21864<\/th>\n",
              "      <td>2021-09-01<\/td>\n",
              "      <td>107102<\/td>\n",
              "    <\/tr>\n",
              "    <tr>\n",
              "      <th>21865<\/th>\n",
              "      <td>2021-09-02<\/td>\n",
              "      <td>107130<\/td>\n",
              "    <\/tr>\n",
              "    <tr>\n",
              "      <th>21866<\/th>\n",
              "      <td>2021-09-03<\/td>\n",
              "      <td>107157<\/td>\n",
              "    <\/tr>\n",
              "  <\/tbody>\n",
              "<\/table>\n",
              "<p>591 rows × 2 columns<\/p>\n",
              "<\/div>"
            ]
          },
          "metadata":{
            
          },
          "output_type":"display_data"
        }
      ],
      "metadata":{
        
      }
    },
    {
      "cell_type":"markdown",
      "source":[
        "#### Calculating the first derivative of the Confrimed Column"
      ],
      "attachments":{
        
      },
      "metadata":{
        
      }
    },
    {
      "cell_type":"code",
      "source":[
        "df_china['Infection Rate'] = df_china['Confirmed'].diff()"
      ],
      "execution_count":46,
      "outputs":[
        
      ],
      "metadata":{
        
      }
    },
    {
      "cell_type":"code",
      "source":[
        "df_china"
      ],
      "execution_count":47,
      "outputs":[
        {
          "data":{
            "text\/html":[
              "<div>\n",
              "<style scoped>\n",
              "    .dataframe tbody tr th:only-of-type {\n",
              "        vertical-align: middle;\n",
              "    }\n",
              "\n",
              "    .dataframe tbody tr th {\n",
              "        vertical-align: top;\n",
              "    }\n",
              "\n",
              "    .dataframe thead th {\n",
              "        text-align: right;\n",
              "    }\n",
              "<\/style>\n",
              "<table border=\"1\" class=\"dataframe\">\n",
              "  <thead>\n",
              "    <tr style=\"text-align: right;\">\n",
              "      <th><\/th>\n",
              "      <th>Date<\/th>\n",
              "      <th>Confirmed<\/th>\n",
              "      <th>Infection Rate<\/th>\n",
              "    <\/tr>\n",
              "  <\/thead>\n",
              "  <tbody>\n",
              "    <tr>\n",
              "      <th>21276<\/th>\n",
              "      <td>2020-01-22<\/td>\n",
              "      <td>548<\/td>\n",
              "      <td>NaN<\/td>\n",
              "    <\/tr>\n",
              "    <tr>\n",
              "      <th>21277<\/th>\n",
              "      <td>2020-01-23<\/td>\n",
              "      <td>643<\/td>\n",
              "      <td>95.0<\/td>\n",
              "    <\/tr>\n",
              "    <tr>\n",
              "      <th>21278<\/th>\n",
              "      <td>2020-01-24<\/td>\n",
              "      <td>920<\/td>\n",
              "      <td>277.0<\/td>\n",
              "    <\/tr>\n",
              "    <tr>\n",
              "      <th>21279<\/th>\n",
              "      <td>2020-01-25<\/td>\n",
              "      <td>1406<\/td>\n",
              "      <td>486.0<\/td>\n",
              "    <\/tr>\n",
              "    <tr>\n",
              "      <th>21280<\/th>\n",
              "      <td>2020-01-26<\/td>\n",
              "      <td>2075<\/td>\n",
              "      <td>669.0<\/td>\n",
              "    <\/tr>\n",
              "    <tr>\n",
              "      <th>...<\/th>\n",
              "      <td>...<\/td>\n",
              "      <td>...<\/td>\n",
              "      <td>...<\/td>\n",
              "    <\/tr>\n",
              "    <tr>\n",
              "      <th>21862<\/th>\n",
              "      <td>2021-08-30<\/td>\n",
              "      <td>107052<\/td>\n",
              "      <td>40.0<\/td>\n",
              "    <\/tr>\n",
              "    <tr>\n",
              "      <th>21863<\/th>\n",
              "      <td>2021-08-31<\/td>\n",
              "      <td>107073<\/td>\n",
              "      <td>21.0<\/td>\n",
              "    <\/tr>\n",
              "    <tr>\n",
              "      <th>21864<\/th>\n",
              "      <td>2021-09-01<\/td>\n",
              "      <td>107102<\/td>\n",
              "      <td>29.0<\/td>\n",
              "    <\/tr>\n",
              "    <tr>\n",
              "      <th>21865<\/th>\n",
              "      <td>2021-09-02<\/td>\n",
              "      <td>107130<\/td>\n",
              "      <td>28.0<\/td>\n",
              "    <\/tr>\n",
              "    <tr>\n",
              "      <th>21866<\/th>\n",
              "      <td>2021-09-03<\/td>\n",
              "      <td>107157<\/td>\n",
              "      <td>27.0<\/td>\n",
              "    <\/tr>\n",
              "  <\/tbody>\n",
              "<\/table>\n",
              "<p>591 rows × 3 columns<\/p>\n",
              "<\/div>"
            ]
          },
          "metadata":{
            
          },
          "output_type":"display_data"
        }
      ],
      "metadata":{
        
      }
    },
    {
      "cell_type":"code",
      "source":[
        "px.line(df_china, 'Date', y=['Confirmed','Infection Rate'])"
      ],
      "execution_count":48,
      "outputs":[
        {
          "data":{
            "text\/plain":[
              "Unsupported"
            ]
          },
          "metadata":{
            
          },
          "output_type":"display_data"
        }
      ],
      "metadata":{
        
      }
    },
    {
      "cell_type":"code",
      "source":[
        "df_china['Infection Rate'].max()"
      ],
      "execution_count":49,
      "outputs":[
        {
          "data":{
            "text\/plain":[
              "15136.0"
            ]
          },
          "metadata":{
            
          },
          "output_type":"display_data"
        }
      ],
      "metadata":{
        
      }
    },
    {
      "cell_type":"markdown",
      "source":[
        "\n",
        "### Calculating the Maximum Infection Rate for all countries"
      ],
      "attachments":{
        
      },
      "metadata":{
        
      }
    },
    {
      "cell_type":"code",
      "source":[
        "df.head()"
      ],
      "execution_count":50,
      "outputs":[
        {
          "data":{
            "text\/html":[
              "<div>\n",
              "<style scoped>\n",
              "    .dataframe tbody tr th:only-of-type {\n",
              "        vertical-align: middle;\n",
              "    }\n",
              "\n",
              "    .dataframe tbody tr th {\n",
              "        vertical-align: top;\n",
              "    }\n",
              "\n",
              "    .dataframe thead th {\n",
              "        text-align: right;\n",
              "    }\n",
              "<\/style>\n",
              "<table border=\"1\" class=\"dataframe\">\n",
              "  <thead>\n",
              "    <tr style=\"text-align: right;\">\n",
              "      <th><\/th>\n",
              "      <th>Date<\/th>\n",
              "      <th>Country<\/th>\n",
              "      <th>Confirmed<\/th>\n",
              "      <th>Recovered<\/th>\n",
              "      <th>Deaths<\/th>\n",
              "    <\/tr>\n",
              "  <\/thead>\n",
              "  <tbody>\n",
              "    <tr>\n",
              "      <th>33<\/th>\n",
              "      <td>2020-02-24<\/td>\n",
              "      <td>Afghanistan<\/td>\n",
              "      <td>1<\/td>\n",
              "      <td>0<\/td>\n",
              "      <td>0<\/td>\n",
              "    <\/tr>\n",
              "    <tr>\n",
              "      <th>34<\/th>\n",
              "      <td>2020-02-25<\/td>\n",
              "      <td>Afghanistan<\/td>\n",
              "      <td>1<\/td>\n",
              "      <td>0<\/td>\n",
              "      <td>0<\/td>\n",
              "    <\/tr>\n",
              "    <tr>\n",
              "      <th>35<\/th>\n",
              "      <td>2020-02-26<\/td>\n",
              "      <td>Afghanistan<\/td>\n",
              "      <td>1<\/td>\n",
              "      <td>0<\/td>\n",
              "      <td>0<\/td>\n",
              "    <\/tr>\n",
              "    <tr>\n",
              "      <th>36<\/th>\n",
              "      <td>2020-02-27<\/td>\n",
              "      <td>Afghanistan<\/td>\n",
              "      <td>1<\/td>\n",
              "      <td>0<\/td>\n",
              "      <td>0<\/td>\n",
              "    <\/tr>\n",
              "    <tr>\n",
              "      <th>37<\/th>\n",
              "      <td>2020-02-28<\/td>\n",
              "      <td>Afghanistan<\/td>\n",
              "      <td>1<\/td>\n",
              "      <td>0<\/td>\n",
              "      <td>0<\/td>\n",
              "    <\/tr>\n",
              "  <\/tbody>\n",
              "<\/table>\n",
              "<\/div>"
            ]
          },
          "metadata":{
            
          },
          "output_type":"display_data"
        }
      ],
      "metadata":{
        
      }
    },
    {
      "cell_type":"code",
      "source":[
        "countries = list(df['Country'].unique())\n",
        "max_infection_rates = []\n",
        "\n",
        "for c in countries:\n",
        "    max_infec = df[df.Country == c].Confirmed.diff().max()\n",
        "    max_infection_rates.append(max_infec)\n",
        "    "
      ],
      "execution_count":51,
      "outputs":[
        
      ],
      "metadata":{
        
      }
    },
    {
      "cell_type":"markdown",
      "source":[
        "\n",
        "#### Creating a new Dataframe "
      ],
      "attachments":{
        
      },
      "metadata":{
        
      }
    },
    {
      "cell_type":"code",
      "source":[
        "df_max_infec = pd.DataFrame()\n",
        "df_max_infec['Country'] = countries\n",
        "df_max_infec['Maximum Infection Rate'] = max_infection_rates\n",
        "df_max_infec\n",
        "\n",
        "#df_max_infec[df_max_infec.Country == 'India']"
      ],
      "execution_count":52,
      "outputs":[
        {
          "data":{
            "text\/html":[
              "<div>\n",
              "<style scoped>\n",
              "    .dataframe tbody tr th:only-of-type {\n",
              "        vertical-align: middle;\n",
              "    }\n",
              "\n",
              "    .dataframe tbody tr th {\n",
              "        vertical-align: top;\n",
              "    }\n",
              "\n",
              "    .dataframe thead th {\n",
              "        text-align: right;\n",
              "    }\n",
              "<\/style>\n",
              "<table border=\"1\" class=\"dataframe\">\n",
              "  <thead>\n",
              "    <tr style=\"text-align: right;\">\n",
              "      <th><\/th>\n",
              "      <th>Country<\/th>\n",
              "      <th>Maximum Infection Rate<\/th>\n",
              "    <\/tr>\n",
              "  <\/thead>\n",
              "  <tbody>\n",
              "    <tr>\n",
              "      <th>0<\/th>\n",
              "      <td>Afghanistan<\/td>\n",
              "      <td>5721.0<\/td>\n",
              "    <\/tr>\n",
              "    <tr>\n",
              "      <th>1<\/th>\n",
              "      <td>Albania<\/td>\n",
              "      <td>1239.0<\/td>\n",
              "    <\/tr>\n",
              "    <tr>\n",
              "      <th>2<\/th>\n",
              "      <td>Algeria<\/td>\n",
              "      <td>1927.0<\/td>\n",
              "    <\/tr>\n",
              "    <tr>\n",
              "      <th>3<\/th>\n",
              "      <td>Andorra<\/td>\n",
              "      <td>299.0<\/td>\n",
              "    <\/tr>\n",
              "    <tr>\n",
              "      <th>4<\/th>\n",
              "      <td>Angola<\/td>\n",
              "      <td>405.0<\/td>\n",
              "    <\/tr>\n",
              "    <tr>\n",
              "      <th>...<\/th>\n",
              "      <td>...<\/td>\n",
              "      <td>...<\/td>\n",
              "    <\/tr>\n",
              "    <tr>\n",
              "      <th>190<\/th>\n",
              "      <td>Vietnam<\/td>\n",
              "      <td>17428.0<\/td>\n",
              "    <\/tr>\n",
              "    <tr>\n",
              "      <th>191<\/th>\n",
              "      <td>West Bank and Gaza<\/td>\n",
              "      <td>2884.0<\/td>\n",
              "    <\/tr>\n",
              "    <tr>\n",
              "      <th>192<\/th>\n",
              "      <td>Yemen<\/td>\n",
              "      <td>174.0<\/td>\n",
              "    <\/tr>\n",
              "    <tr>\n",
              "      <th>193<\/th>\n",
              "      <td>Zambia<\/td>\n",
              "      <td>3594.0<\/td>\n",
              "    <\/tr>\n",
              "    <tr>\n",
              "      <th>194<\/th>\n",
              "      <td>Zimbabwe<\/td>\n",
              "      <td>3110.0<\/td>\n",
              "    <\/tr>\n",
              "  <\/tbody>\n",
              "<\/table>\n",
              "<p>195 rows × 2 columns<\/p>\n",
              "<\/div>"
            ]
          },
          "metadata":{
            
          },
          "output_type":"display_data"
        }
      ],
      "metadata":{
        
      }
    },
    {
      "cell_type":"markdown",
      "source":[
        "#### Plot a barchart : Maximum Infection Rate of each country"
      ],
      "attachments":{
        
      },
      "metadata":{
        
      }
    },
    {
      "cell_type":"code",
      "source":[
        "px.bar(df_max_infec, x='Country', y='Maximum Infection Rate', color='Country', title = 'Global Maximum Infection Rate',log_y=True)"
      ],
      "execution_count":53,
      "outputs":[
        {
          "data":{
            "text\/plain":[
              "Unsupported"
            ]
          },
          "metadata":{
            
          },
          "output_type":"display_data"
        }
      ],
      "metadata":{
        
      }
    },
    {
      "cell_type":"markdown",
      "source":[
        "## Visualizing the Infection Rate of COVID-19 from when it began till today in India"
      ],
      "attachments":{
        
      },
      "metadata":{
        
      }
    },
    {
      "cell_type":"markdown",
      "source":[
        "### COVID-19 pandemic in India \n",
        "**The first cases of COVID-19 in India were reported on 30 January 2020 in three towns of Kerala, among three Indian medical students who had returned from Wuhan, the epicenter of the pandemic. - <a href=\"https:\/\/en.wikipedia.org\/wiki\/COVID-19_pandemic_in_India\">Source<\/a>**"
      ],
      "attachments":{
        
      },
      "metadata":{
        
      }
    },
    {
      "cell_type":"code",
      "source":[
        "india_covid_start_date = '2020-01-30'\n",
        "india_covid_today = datetime.datetime.now()"
      ],
      "execution_count":54,
      "outputs":[
        
      ],
      "metadata":{
        
      }
    },
    {
      "cell_type":"code",
      "source":[
        "df.head()"
      ],
      "execution_count":55,
      "outputs":[
        {
          "data":{
            "text\/html":[
              "<div>\n",
              "<style scoped>\n",
              "    .dataframe tbody tr th:only-of-type {\n",
              "        vertical-align: middle;\n",
              "    }\n",
              "\n",
              "    .dataframe tbody tr th {\n",
              "        vertical-align: top;\n",
              "    }\n",
              "\n",
              "    .dataframe thead th {\n",
              "        text-align: right;\n",
              "    }\n",
              "<\/style>\n",
              "<table border=\"1\" class=\"dataframe\">\n",
              "  <thead>\n",
              "    <tr style=\"text-align: right;\">\n",
              "      <th><\/th>\n",
              "      <th>Date<\/th>\n",
              "      <th>Country<\/th>\n",
              "      <th>Confirmed<\/th>\n",
              "      <th>Recovered<\/th>\n",
              "      <th>Deaths<\/th>\n",
              "    <\/tr>\n",
              "  <\/thead>\n",
              "  <tbody>\n",
              "    <tr>\n",
              "      <th>33<\/th>\n",
              "      <td>2020-02-24<\/td>\n",
              "      <td>Afghanistan<\/td>\n",
              "      <td>1<\/td>\n",
              "      <td>0<\/td>\n",
              "      <td>0<\/td>\n",
              "    <\/tr>\n",
              "    <tr>\n",
              "      <th>34<\/th>\n",
              "      <td>2020-02-25<\/td>\n",
              "      <td>Afghanistan<\/td>\n",
              "      <td>1<\/td>\n",
              "      <td>0<\/td>\n",
              "      <td>0<\/td>\n",
              "    <\/tr>\n",
              "    <tr>\n",
              "      <th>35<\/th>\n",
              "      <td>2020-02-26<\/td>\n",
              "      <td>Afghanistan<\/td>\n",
              "      <td>1<\/td>\n",
              "      <td>0<\/td>\n",
              "      <td>0<\/td>\n",
              "    <\/tr>\n",
              "    <tr>\n",
              "      <th>36<\/th>\n",
              "      <td>2020-02-27<\/td>\n",
              "      <td>Afghanistan<\/td>\n",
              "      <td>1<\/td>\n",
              "      <td>0<\/td>\n",
              "      <td>0<\/td>\n",
              "    <\/tr>\n",
              "    <tr>\n",
              "      <th>37<\/th>\n",
              "      <td>2020-02-28<\/td>\n",
              "      <td>Afghanistan<\/td>\n",
              "      <td>1<\/td>\n",
              "      <td>0<\/td>\n",
              "      <td>0<\/td>\n",
              "    <\/tr>\n",
              "  <\/tbody>\n",
              "<\/table>\n",
              "<\/div>"
            ]
          },
          "metadata":{
            
          },
          "output_type":"display_data"
        }
      ],
      "metadata":{
        
      }
    },
    {
      "cell_type":"markdown",
      "source":[
        "### Getting data related to India"
      ],
      "attachments":{
        
      },
      "metadata":{
        
      }
    },
    {
      "cell_type":"code",
      "source":[
        "df_india = df[df.Country == 'India']"
      ],
      "execution_count":56,
      "outputs":[
        
      ],
      "metadata":{
        
      }
    },
    {
      "cell_type":"code",
      "source":[
        "df_india"
      ],
      "execution_count":57,
      "outputs":[
        {
          "data":{
            "text\/html":[
              "<div>\n",
              "<style scoped>\n",
              "    .dataframe tbody tr th:only-of-type {\n",
              "        vertical-align: middle;\n",
              "    }\n",
              "\n",
              "    .dataframe tbody tr th {\n",
              "        vertical-align: top;\n",
              "    }\n",
              "\n",
              "    .dataframe thead th {\n",
              "        text-align: right;\n",
              "    }\n",
              "<\/style>\n",
              "<table border=\"1\" class=\"dataframe\">\n",
              "  <thead>\n",
              "    <tr style=\"text-align: right;\">\n",
              "      <th><\/th>\n",
              "      <th>Date<\/th>\n",
              "      <th>Country<\/th>\n",
              "      <th>Confirmed<\/th>\n",
              "      <th>Recovered<\/th>\n",
              "      <th>Deaths<\/th>\n",
              "    <\/tr>\n",
              "  <\/thead>\n",
              "  <tbody>\n",
              "    <tr>\n",
              "      <th>46697<\/th>\n",
              "      <td>2020-01-30<\/td>\n",
              "      <td>India<\/td>\n",
              "      <td>1<\/td>\n",
              "      <td>0<\/td>\n",
              "      <td>0<\/td>\n",
              "    <\/tr>\n",
              "    <tr>\n",
              "      <th>46698<\/th>\n",
              "      <td>2020-01-31<\/td>\n",
              "      <td>India<\/td>\n",
              "      <td>1<\/td>\n",
              "      <td>0<\/td>\n",
              "      <td>0<\/td>\n",
              "    <\/tr>\n",
              "    <tr>\n",
              "      <th>46699<\/th>\n",
              "      <td>2020-02-01<\/td>\n",
              "      <td>India<\/td>\n",
              "      <td>1<\/td>\n",
              "      <td>0<\/td>\n",
              "      <td>0<\/td>\n",
              "    <\/tr>\n",
              "    <tr>\n",
              "      <th>46700<\/th>\n",
              "      <td>2020-02-02<\/td>\n",
              "      <td>India<\/td>\n",
              "      <td>2<\/td>\n",
              "      <td>0<\/td>\n",
              "      <td>0<\/td>\n",
              "    <\/tr>\n",
              "    <tr>\n",
              "      <th>46701<\/th>\n",
              "      <td>2020-02-03<\/td>\n",
              "      <td>India<\/td>\n",
              "      <td>3<\/td>\n",
              "      <td>0<\/td>\n",
              "      <td>0<\/td>\n",
              "    <\/tr>\n",
              "    <tr>\n",
              "      <th>...<\/th>\n",
              "      <td>...<\/td>\n",
              "      <td>...<\/td>\n",
              "      <td>...<\/td>\n",
              "      <td>...<\/td>\n",
              "      <td>...<\/td>\n",
              "    <\/tr>\n",
              "    <tr>\n",
              "      <th>47275<\/th>\n",
              "      <td>2021-08-30<\/td>\n",
              "      <td>India<\/td>\n",
              "      <td>32768880<\/td>\n",
              "      <td>0<\/td>\n",
              "      <td>438560<\/td>\n",
              "    <\/tr>\n",
              "    <tr>\n",
              "      <th>47276<\/th>\n",
              "      <td>2021-08-31<\/td>\n",
              "      <td>India<\/td>\n",
              "      <td>32810845<\/td>\n",
              "      <td>0<\/td>\n",
              "      <td>439020<\/td>\n",
              "    <\/tr>\n",
              "    <tr>\n",
              "      <th>47277<\/th>\n",
              "      <td>2021-09-01<\/td>\n",
              "      <td>India<\/td>\n",
              "      <td>32857937<\/td>\n",
              "      <td>0<\/td>\n",
              "      <td>439529<\/td>\n",
              "    <\/tr>\n",
              "    <tr>\n",
              "      <th>47278<\/th>\n",
              "      <td>2021-09-02<\/td>\n",
              "      <td>India<\/td>\n",
              "      <td>32903289<\/td>\n",
              "      <td>0<\/td>\n",
              "      <td>439895<\/td>\n",
              "    <\/tr>\n",
              "    <tr>\n",
              "      <th>47279<\/th>\n",
              "      <td>2021-09-03<\/td>\n",
              "      <td>India<\/td>\n",
              "      <td>32903289<\/td>\n",
              "      <td>0<\/td>\n",
              "      <td>439895<\/td>\n",
              "    <\/tr>\n",
              "  <\/tbody>\n",
              "<\/table>\n",
              "<p>583 rows × 5 columns<\/p>\n",
              "<\/div>"
            ]
          },
          "metadata":{
            
          },
          "output_type":"display_data"
        }
      ],
      "metadata":{
        
      }
    },
    {
      "cell_type":"markdown",
      "source":[
        "#### Calculating the infection rate in India"
      ],
      "attachments":{
        
      },
      "metadata":{
        
      }
    },
    {
      "cell_type":"code",
      "source":[
        "df_india['Infection Rate'] = df_india.Confirmed.diff()\n",
        "df_india"
      ],
      "execution_count":58,
      "outputs":[
        {
          "name":"stderr",
          "text":[
            "<ipython-input-58-409338e14baa>:1: SettingWithCopyWarning:\n",
            "\n",
            "\n",
            "A value is trying to be set on a copy of a slice from a DataFrame.\n",
            "Try using .loc[row_indexer,col_indexer] = value instead\n",
            "\n",
            "See the caveats in the documentation: https:\/\/pandas.pydata.org\/pandas-docs\/stable\/user_guide\/indexing.html#returning-a-view-versus-a-copy\n",
            "\n"
          ],
          "output_type":"stream"
        },
        {
          "data":{
            "text\/html":[
              "<div>\n",
              "<style scoped>\n",
              "    .dataframe tbody tr th:only-of-type {\n",
              "        vertical-align: middle;\n",
              "    }\n",
              "\n",
              "    .dataframe tbody tr th {\n",
              "        vertical-align: top;\n",
              "    }\n",
              "\n",
              "    .dataframe thead th {\n",
              "        text-align: right;\n",
              "    }\n",
              "<\/style>\n",
              "<table border=\"1\" class=\"dataframe\">\n",
              "  <thead>\n",
              "    <tr style=\"text-align: right;\">\n",
              "      <th><\/th>\n",
              "      <th>Date<\/th>\n",
              "      <th>Country<\/th>\n",
              "      <th>Confirmed<\/th>\n",
              "      <th>Recovered<\/th>\n",
              "      <th>Deaths<\/th>\n",
              "      <th>Infection Rate<\/th>\n",
              "    <\/tr>\n",
              "  <\/thead>\n",
              "  <tbody>\n",
              "    <tr>\n",
              "      <th>46697<\/th>\n",
              "      <td>2020-01-30<\/td>\n",
              "      <td>India<\/td>\n",
              "      <td>1<\/td>\n",
              "      <td>0<\/td>\n",
              "      <td>0<\/td>\n",
              "      <td>NaN<\/td>\n",
              "    <\/tr>\n",
              "    <tr>\n",
              "      <th>46698<\/th>\n",
              "      <td>2020-01-31<\/td>\n",
              "      <td>India<\/td>\n",
              "      <td>1<\/td>\n",
              "      <td>0<\/td>\n",
              "      <td>0<\/td>\n",
              "      <td>0.0<\/td>\n",
              "    <\/tr>\n",
              "    <tr>\n",
              "      <th>46699<\/th>\n",
              "      <td>2020-02-01<\/td>\n",
              "      <td>India<\/td>\n",
              "      <td>1<\/td>\n",
              "      <td>0<\/td>\n",
              "      <td>0<\/td>\n",
              "      <td>0.0<\/td>\n",
              "    <\/tr>\n",
              "    <tr>\n",
              "      <th>46700<\/th>\n",
              "      <td>2020-02-02<\/td>\n",
              "      <td>India<\/td>\n",
              "      <td>2<\/td>\n",
              "      <td>0<\/td>\n",
              "      <td>0<\/td>\n",
              "      <td>1.0<\/td>\n",
              "    <\/tr>\n",
              "    <tr>\n",
              "      <th>46701<\/th>\n",
              "      <td>2020-02-03<\/td>\n",
              "      <td>India<\/td>\n",
              "      <td>3<\/td>\n",
              "      <td>0<\/td>\n",
              "      <td>0<\/td>\n",
              "      <td>1.0<\/td>\n",
              "    <\/tr>\n",
              "    <tr>\n",
              "      <th>...<\/th>\n",
              "      <td>...<\/td>\n",
              "      <td>...<\/td>\n",
              "      <td>...<\/td>\n",
              "      <td>...<\/td>\n",
              "      <td>...<\/td>\n",
              "      <td>...<\/td>\n",
              "    <\/tr>\n",
              "    <tr>\n",
              "      <th>47275<\/th>\n",
              "      <td>2021-08-30<\/td>\n",
              "      <td>India<\/td>\n",
              "      <td>32768880<\/td>\n",
              "      <td>0<\/td>\n",
              "      <td>438560<\/td>\n",
              "      <td>30941.0<\/td>\n",
              "    <\/tr>\n",
              "    <tr>\n",
              "      <th>47276<\/th>\n",
              "      <td>2021-08-31<\/td>\n",
              "      <td>India<\/td>\n",
              "      <td>32810845<\/td>\n",
              "      <td>0<\/td>\n",
              "      <td>439020<\/td>\n",
              "      <td>41965.0<\/td>\n",
              "    <\/tr>\n",
              "    <tr>\n",
              "      <th>47277<\/th>\n",
              "      <td>2021-09-01<\/td>\n",
              "      <td>India<\/td>\n",
              "      <td>32857937<\/td>\n",
              "      <td>0<\/td>\n",
              "      <td>439529<\/td>\n",
              "      <td>47092.0<\/td>\n",
              "    <\/tr>\n",
              "    <tr>\n",
              "      <th>47278<\/th>\n",
              "      <td>2021-09-02<\/td>\n",
              "      <td>India<\/td>\n",
              "      <td>32903289<\/td>\n",
              "      <td>0<\/td>\n",
              "      <td>439895<\/td>\n",
              "      <td>45352.0<\/td>\n",
              "    <\/tr>\n",
              "    <tr>\n",
              "      <th>47279<\/th>\n",
              "      <td>2021-09-03<\/td>\n",
              "      <td>India<\/td>\n",
              "      <td>32903289<\/td>\n",
              "      <td>0<\/td>\n",
              "      <td>439895<\/td>\n",
              "      <td>0.0<\/td>\n",
              "    <\/tr>\n",
              "  <\/tbody>\n",
              "<\/table>\n",
              "<p>583 rows × 6 columns<\/p>\n",
              "<\/div>"
            ]
          },
          "metadata":{
            
          },
          "output_type":"display_data"
        }
      ],
      "metadata":{
        
      }
    },
    {
      "cell_type":"markdown",
      "source":[
        "#### Visualization"
      ],
      "attachments":{
        
      },
      "metadata":{
        
      }
    },
    {
      "cell_type":"code",
      "source":[
        "\n",
        "fig = px.line(df_india, x='Date',y='Infection Rate', title='Infection Rate of COVID-19 in India')\n",
        "fig.add_shape(\n",
        "              \n",
        "    dict(\n",
        "         type='line',\n",
        "         x0=india_covid_start_date,\n",
        "         y0=0,\n",
        "         x1=india_covid_start_date,\n",
        "         y1=df_india['Infection Rate'].max(),\n",
        "         line = dict(color='red',width=2)\n",
        "    )\n",
        ")\n",
        "fig.add_annotation(\n",
        "    dict(\n",
        "        x = india_covid_start_date,\n",
        "        y = df_india['Infection Rate'].max(),\n",
        "        text = 'First Case of COVID-19 in India'\n",
        "    )\n",
        ")\n",
        "\n",
        "\n",
        "\n",
        "fig.add_shape(\n",
        "              \n",
        "    dict(\n",
        "         type='line',\n",
        "         x0=india_covid_today,\n",
        "         y0=0,\n",
        "         x1=datetime.datetime.now(),\n",
        "         y1=df_india['Infection Rate'].max(),\n",
        "         line = dict(color='orange',width=2)\n",
        "    )\n",
        ")\n",
        "fig.add_annotation(\n",
        "    dict(\n",
        "        x = datetime.datetime.now(),\n",
        "        y = df_india['Infection Rate'].max(),\n",
        "        text = 'Present Infection Rate'\n",
        "    )\n",
        ")"
      ],
      "execution_count":59,
      "outputs":[
        {
          "data":{
            "text\/plain":[
              "Unsupported"
            ]
          },
          "metadata":{
            
          },
          "output_type":"display_data"
        }
      ],
      "metadata":{
        
      }
    },
    {
      "cell_type":"markdown",
      "source":[
        "### Visualizing the Death Rate"
      ],
      "attachments":{
        
      },
      "metadata":{
        
      }
    },
    {
      "cell_type":"code",
      "source":[
        "df_india['Death Rate'] = df_india.Deaths.diff()"
      ],
      "execution_count":60,
      "outputs":[
        {
          "name":"stderr",
          "text":[
            "<ipython-input-60-b3f1ea26c2a4>:1: SettingWithCopyWarning:\n",
            "\n",
            "\n",
            "A value is trying to be set on a copy of a slice from a DataFrame.\n",
            "Try using .loc[row_indexer,col_indexer] = value instead\n",
            "\n",
            "See the caveats in the documentation: https:\/\/pandas.pydata.org\/pandas-docs\/stable\/user_guide\/indexing.html#returning-a-view-versus-a-copy\n",
            "\n"
          ],
          "output_type":"stream"
        }
      ],
      "metadata":{
        
      }
    },
    {
      "cell_type":"markdown",
      "source":[
        "#### Check the dataframe "
      ],
      "attachments":{
        
      },
      "metadata":{
        
      }
    },
    {
      "cell_type":"code",
      "source":[
        "df_india.head()"
      ],
      "execution_count":61,
      "outputs":[
        {
          "data":{
            "text\/html":[
              "<div>\n",
              "<style scoped>\n",
              "    .dataframe tbody tr th:only-of-type {\n",
              "        vertical-align: middle;\n",
              "    }\n",
              "\n",
              "    .dataframe tbody tr th {\n",
              "        vertical-align: top;\n",
              "    }\n",
              "\n",
              "    .dataframe thead th {\n",
              "        text-align: right;\n",
              "    }\n",
              "<\/style>\n",
              "<table border=\"1\" class=\"dataframe\">\n",
              "  <thead>\n",
              "    <tr style=\"text-align: right;\">\n",
              "      <th><\/th>\n",
              "      <th>Date<\/th>\n",
              "      <th>Country<\/th>\n",
              "      <th>Confirmed<\/th>\n",
              "      <th>Recovered<\/th>\n",
              "      <th>Deaths<\/th>\n",
              "      <th>Infection Rate<\/th>\n",
              "      <th>Death Rate<\/th>\n",
              "    <\/tr>\n",
              "  <\/thead>\n",
              "  <tbody>\n",
              "    <tr>\n",
              "      <th>46697<\/th>\n",
              "      <td>2020-01-30<\/td>\n",
              "      <td>India<\/td>\n",
              "      <td>1<\/td>\n",
              "      <td>0<\/td>\n",
              "      <td>0<\/td>\n",
              "      <td>NaN<\/td>\n",
              "      <td>NaN<\/td>\n",
              "    <\/tr>\n",
              "    <tr>\n",
              "      <th>46698<\/th>\n",
              "      <td>2020-01-31<\/td>\n",
              "      <td>India<\/td>\n",
              "      <td>1<\/td>\n",
              "      <td>0<\/td>\n",
              "      <td>0<\/td>\n",
              "      <td>0.0<\/td>\n",
              "      <td>0.0<\/td>\n",
              "    <\/tr>\n",
              "    <tr>\n",
              "      <th>46699<\/th>\n",
              "      <td>2020-02-01<\/td>\n",
              "      <td>India<\/td>\n",
              "      <td>1<\/td>\n",
              "      <td>0<\/td>\n",
              "      <td>0<\/td>\n",
              "      <td>0.0<\/td>\n",
              "      <td>0.0<\/td>\n",
              "    <\/tr>\n",
              "    <tr>\n",
              "      <th>46700<\/th>\n",
              "      <td>2020-02-02<\/td>\n",
              "      <td>India<\/td>\n",
              "      <td>2<\/td>\n",
              "      <td>0<\/td>\n",
              "      <td>0<\/td>\n",
              "      <td>1.0<\/td>\n",
              "      <td>0.0<\/td>\n",
              "    <\/tr>\n",
              "    <tr>\n",
              "      <th>46701<\/th>\n",
              "      <td>2020-02-03<\/td>\n",
              "      <td>India<\/td>\n",
              "      <td>3<\/td>\n",
              "      <td>0<\/td>\n",
              "      <td>0<\/td>\n",
              "      <td>1.0<\/td>\n",
              "      <td>0.0<\/td>\n",
              "    <\/tr>\n",
              "  <\/tbody>\n",
              "<\/table>\n",
              "<\/div>"
            ]
          },
          "metadata":{
            
          },
          "output_type":"display_data"
        }
      ],
      "metadata":{
        
      }
    },
    {
      "cell_type":"code",
      "source":[
        "fig = px.line(df_india,x='Date',y=['Infection Rate','Death Rate'])\n",
        "fig.show()"
      ],
      "execution_count":62,
      "outputs":[
        {
          "data":{
            "text\/plain":[
              "Unsupported"
            ]
          },
          "metadata":{
            
          },
          "output_type":"display_data"
        }
      ],
      "metadata":{
        
      }
    },
    {
      "cell_type":"markdown",
      "source":[
        "#### Normalizing the columns"
      ],
      "attachments":{
        
      },
      "metadata":{
        
      }
    },
    {
      "cell_type":"code",
      "source":[
        "df_india['Infection Rate'] = df_india['Infection Rate']\/df_india['Infection Rate'].max()\n",
        "df_india['Death Rate'] = df_india['Death Rate']\/df_india['Death Rate'].max()"
      ],
      "execution_count":63,
      "outputs":[
        {
          "name":"stderr",
          "text":[
            "<ipython-input-63-09c854ee79c3>:1: SettingWithCopyWarning:\n",
            "\n",
            "\n",
            "A value is trying to be set on a copy of a slice from a DataFrame.\n",
            "Try using .loc[row_indexer,col_indexer] = value instead\n",
            "\n",
            "See the caveats in the documentation: https:\/\/pandas.pydata.org\/pandas-docs\/stable\/user_guide\/indexing.html#returning-a-view-versus-a-copy\n",
            "\n",
            "<ipython-input-63-09c854ee79c3>:2: SettingWithCopyWarning:\n",
            "\n",
            "\n",
            "A value is trying to be set on a copy of a slice from a DataFrame.\n",
            "Try using .loc[row_indexer,col_indexer] = value instead\n",
            "\n",
            "See the caveats in the documentation: https:\/\/pandas.pydata.org\/pandas-docs\/stable\/user_guide\/indexing.html#returning-a-view-versus-a-copy\n",
            "\n"
          ],
          "output_type":"stream"
        }
      ],
      "metadata":{
        
      }
    },
    {
      "cell_type":"markdown",
      "source":[
        "### Plotting the Chart of Infection Rate and Death Rate"
      ],
      "attachments":{
        
      },
      "metadata":{
        
      }
    },
    {
      "cell_type":"code",
      "source":[
        "fig = px.line(df_india,x='Date',y=['Infection Rate','Death Rate'])\n",
        "\n",
        "fig.add_shape(\n",
        "              \n",
        "    dict(\n",
        "         type='line',\n",
        "         x0=india_covid_start_date,\n",
        "         y0=0,\n",
        "         x1=india_covid_start_date,\n",
        "         y1=df_india['Infection Rate'].max(),\n",
        "         line = dict(color='red',width=2)\n",
        "    )\n",
        ")\n",
        "fig.add_annotation(\n",
        "    dict(\n",
        "        x = india_covid_start_date,\n",
        "        y = df_india['Infection Rate'].max(),\n",
        "        text = 'First Case of COVID-19'\n",
        "    )\n",
        ")\n",
        "\n",
        "\n",
        "\n",
        "fig.add_shape(\n",
        "              \n",
        "    dict(\n",
        "         type='line',\n",
        "         x0=india_covid_today,\n",
        "         y0=0,\n",
        "         x1=india_covid_today,\n",
        "         y1=df_india['Infection Rate'].max(),\n",
        "         line = dict(color='orange',width=2)\n",
        "    )\n",
        ")\n",
        "fig.add_annotation(\n",
        "    dict(\n",
        "        x = india_covid_today,\n",
        "        y = 0,\n",
        "        text = 'Situation Today'\n",
        "    )\n",
        ")\n",
        "fig.show()"
      ],
      "execution_count":64,
      "outputs":[
        {
          "data":{
            "text\/plain":[
              "Unsupported"
            ]
          },
          "metadata":{
            
          },
          "output_type":"display_data"
        }
      ],
      "metadata":{
        
      }
    }
  ],
  "metadata":{
    
  },
  "nbformat":4,
  "nbformat_minor":0
}